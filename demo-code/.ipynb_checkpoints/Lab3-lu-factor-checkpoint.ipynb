{
 "cells": [
  {
   "cell_type": "code",
   "execution_count": 1,
   "id": "4307b93f-e8e9-4f9b-bb21-dd932408bba0",
   "metadata": {},
   "outputs": [],
   "source": [
    "import numpy as np \n",
    "import scipy "
   ]
  },
  {
   "cell_type": "markdown",
   "id": "218620f7-4fb3-4082-8118-a7c0afa2a1db",
   "metadata": {},
   "source": [
    "# Lab 3: LU Factorization + Partial Pivoting \n",
    "We know that linear systems (at-least full rank matrices) of the form \n",
    "$$\n",
    "    A x = b, \n",
    "$$\n",
    "can be solved as \n",
    "$$\n",
    "    x = A^{-1}b.\n",
    "$$\n",
    "\n",
    "1. $\\mathcal{O}(n^3)$ complexity due to the matrix product.\n",
    "\n",
    "## LU Factorization\n",
    "The $LU$ decomposition (or factorization) of a matrix $A$ is defined as follows \n",
    "$$\n",
    "A = LU,\n",
    "$$\n",
    "where $L$ is an upper triangular matrix and $U$ is a lower triangular matrix. If expanded, the decomposition looks as follows (for size 4)\n",
    "$$\n",
    "\\begin{pmatrix}\n",
    "    A_{11} & A_{12} & A_{13} & A_{14} \\\\\n",
    "    A_{21} & A_{22} & A_{23} & A_{24} \\\\\n",
    "    A_{31} & A_{32} & A_{33} & A_{34} \\\\\n",
    "    A_{41} & A_{42} & A_{43} & A_{44} \\\\\n",
    "\\end{pmatrix} = \n",
    "\\begin{pmatrix}\n",
    "    1 & 0 & 0 & 0\\\\\n",
    "    L_{21} & 1 & 0 & 0 \\\\\n",
    "    L_{31} & L_{32} & 1 & 0 \\\\\n",
    "    L_{41} & L_{42} & L_{43} & 1\n",
    "\\end{pmatrix}\n",
    "\\begin{pmatrix}\n",
    "    U_{11} & U_{12} & U_{13} & U_{14} \\\\\n",
    "    0 & U_{22} & U_{23} & U_{24}\\\\\n",
    "    0 & 0 & U_{33} & U_{34} \\\\\n",
    "    0 & 0 & 0 & U_{44} \n",
    "\\end{pmatrix}\n",
    "$$\n",
    "We will revisit this later to demonstrate how this helps us to solve linear equations quicker than simply inverting.  \n",
    "\n"
   ]
  },
  {
   "cell_type": "code",
   "execution_count": 2,
   "id": "0b3e0307-1aac-4b7a-a90e-e7ab6c2e1668",
   "metadata": {},
   "outputs": [
    {
     "name": "stdout",
     "output_type": "stream",
     "text": [
      "A:\n",
      " [[0.99 0.78 0.35 0.15 0.62]\n",
      " [0.07 0.93 0.87 0.77 0.93]\n",
      " [0.15 0.11 0.99 0.46 0.99]\n",
      " [0.76 0.36 0.08 0.7  0.7 ]\n",
      " [0.91 0.19 0.83 0.95 0.14]]\n",
      "\n",
      "\n",
      " P:\n",
      " [[1. 0. 0. 0. 0.]\n",
      " [0. 1. 0. 0. 0.]\n",
      " [0. 0. 0. 0. 1.]\n",
      " [0. 0. 0. 1. 0.]\n",
      " [0. 0. 1. 0. 0.]] \n",
      "\n",
      " L:\n",
      " [[ 1.    0.    0.    0.    0.  ]\n",
      " [ 0.07  1.    0.    0.    0.  ]\n",
      " [ 0.92 -0.6   1.    0.    0.  ]\n",
      " [ 0.77 -0.27  0.04  1.    0.  ]\n",
      " [ 0.15 -0.01  0.93 -0.99  1.  ]] \n",
      "\n",
      " U:\n",
      " [[0.99 0.78 0.35 0.15 0.62]\n",
      " [0.   0.87 0.85 0.76 0.89]\n",
      " [0.   0.   1.02 1.27 0.1 ]\n",
      " [0.   0.   0.   0.74 0.46]\n",
      " [0.   0.   0.   0.   1.27]]\n"
     ]
    }
   ],
   "source": [
    "# Generating a random matrix for example\n",
    "A = np.random.rand(5, 5).round(2) \n",
    "n = A.shape[1]\n",
    "print(f\"A:\\n {A}\")\n",
    "\n",
    "# Scipy function for LU \n",
    "P, L, U = scipy.linalg.lu(A)\n",
    "print(f\"\\n\\n P:\\n {P} \\n\\n L:\\n {L.round(2)} \\n\\n U:\\n {U.round(2)}\")"
   ]
  },
  {
   "cell_type": "markdown",
   "id": "080e8d2c-498b-4603-8cff-b3024c1567e0",
   "metadata": {},
   "source": [
    "Now, we will now get into $LU$ decomposition algorithms, but let us introduce some tools first. One of the goals of this section is to re-do the $LU$ code you learnt in lecture using array slicing to demonstrate how powerful and intuitive the tool is. \n",
    "\n",
    "### THE LU ALGORITHM\n",
    "The algorithm works by iterating through each diagonal element (aka pivot) and converting the matrix $A$ into an upper diagonal matrix $U$ using row operations. So for each pivot, we have to come up with row operations that set all the values underneath it to zero. The steps will look something like this - \n",
    "$$\n",
    "\\begin{pmatrix}\n",
    "    A_{11} & A_{12} & A_{13} & A_{14} \\\\\n",
    "    A_{21} & A_{22} & A_{23} & A_{24} \\\\\n",
    "    A_{31} & A_{32} & A_{33} & A_{34} \\\\\n",
    "    A_{41} & A_{42} & A_{43} & A_{44} \n",
    "\\end{pmatrix} =\n",
    "\\begin{pmatrix}\n",
    "    \\color{red}B_{11} & B_{12} & B_{13} & B_{14} \\\\\n",
    "    0      & B_{22} & B_{23} & B_{24} \\\\\n",
    "    0      & B_{32} & B_{33} & B_{34} \\\\\n",
    "    0      & B_{42} & B_{43} & B_{44} \\\\\n",
    "\\end{pmatrix}\n",
    "\\longrightarrow\n",
    "\\begin{pmatrix}\n",
    "    C_{11} & C_{12} & C_{13} & C_{14} \\\\\n",
    "    0      & \\color{red}C_{22} & C_{23} & C_{24} \\\\\n",
    "    0      & 0      & C_{33} & C_{34} \\\\\n",
    "    0      & 0      & C_{43} & C_{44} \\\\\n",
    "\\end{pmatrix}\n",
    "\\longrightarrow\n",
    "\\begin{pmatrix}\n",
    "    U_{11} & U_{12} & U_{13} & U_{14} \\\\\n",
    "    0 & U_{22} & U_{23} & U_{24} \\\\\n",
    "    0 & 0 & \\color{red}U_{33} & U_{34} \\\\\n",
    "    0 & 0 & 0 & U_{44} \\\\\n",
    "\\end{pmatrix}\n",
    "$$\n",
    "Note that the entire matrix changes when we apply a set of row-operations. Hence, the different notation for the matrix in each step. Let us make up a random matrix. Keep in mind the numpy.random.rand(.) function always generates a full-rank matrix."
   ]
  },
  {
   "cell_type": "code",
   "execution_count": 3,
   "id": "364a0a69-7462-48df-a80e-89886f19078d",
   "metadata": {},
   "outputs": [],
   "source": [
    "# LU row operation step (matrix A, pivot point i)\n",
    "def LU_ROW_OP(L, U, i):\n",
    "\n",
    "    # throw error and exit function if pivot = 0\n",
    "    try:\n",
    "        assert U[i, i] != 0\n",
    "    except AssertionError as e:\n",
    "        print(f\"TERMINATING... ZERO PIVOT ENCOUNTERED AT ROW {i}\")\n",
    "        return L, U\n",
    "        \n",
    "    multipliers  =  U[i+1:, i] / U[i, i]\n",
    "    L[i+1:, i]   =  multipliers\n",
    "    U[i+1:, :]  -=  multipliers.reshape(-1, 1) * U[i, :] # O( (n-1) )\n",
    "    return L, U"
   ]
  },
  {
   "cell_type": "markdown",
   "id": "5ca24568-24a8-4eb1-aa01-c182cf0ea7aa",
   "metadata": {},
   "source": [
    "# Step by step visualization of LU factorization\n",
    "\n",
    "Apply this row operation to each pivot point. Once the algorithm ends, the result will be an upper triangular matrix which will be U. "
   ]
  },
  {
   "cell_type": "code",
   "execution_count": 4,
   "id": "b94c1e9a-f934-4b9e-bca4-8a191cec80e3",
   "metadata": {},
   "outputs": [
    {
     "name": "stdout",
     "output_type": "stream",
     "text": [
      "A:\n",
      " [[0.97 0.11 0.1  0.21 0.58]\n",
      " [0.14 0.94 0.26 0.22 0.94]\n",
      " [0.12 0.44 0.56 0.5  0.8 ]\n",
      " [0.57 0.41 0.76 0.53 0.54]\n",
      " [0.28 0.28 0.38 0.8  0.95]]\n",
      "\n",
      "Step 1, Pivot [0, 0]:\n",
      " [[0.97 0.11 0.1  0.21 0.58]\n",
      " [0.   0.92 0.25 0.19 0.86]\n",
      " [0.   0.43 0.55 0.47 0.73]\n",
      " [0.   0.35 0.7  0.41 0.2 ]\n",
      " [0.   0.25 0.35 0.74 0.78]] \n",
      "\n",
      "\n",
      "Step 2, Pivot [1, 1]:\n",
      " [[ 0.97  0.11  0.1   0.21  0.58]\n",
      " [ 0.    0.92  0.25  0.19  0.86]\n",
      " [ 0.    0.    0.43  0.39  0.33]\n",
      " [ 0.    0.    0.61  0.34 -0.12]\n",
      " [ 0.    0.    0.29  0.69  0.55]] \n",
      "\n",
      "\n",
      "Step 3, Pivot [2, 2]:\n",
      " [[ 0.97  0.11  0.1   0.21  0.58]\n",
      " [ 0.    0.92  0.25  0.19  0.86]\n",
      " [ 0.    0.    0.43  0.39  0.33]\n",
      " [ 0.    0.    0.   -0.21 -0.59]\n",
      " [ 0.    0.    0.    0.43  0.33]] \n",
      "\n",
      "\n",
      "Step 4, Pivot [3, 3]:\n",
      " [[ 0.97  0.11  0.1   0.21  0.58]\n",
      " [ 0.    0.92  0.25  0.19  0.86]\n",
      " [ 0.    0.    0.43  0.39  0.33]\n",
      " [ 0.    0.    0.   -0.21 -0.59]\n",
      " [ 0.    0.    0.    0.   -0.9 ]] \n",
      "\n",
      "\n",
      "Step 5, Pivot [4, 4]:\n",
      " [[ 0.97  0.11  0.1   0.21  0.58]\n",
      " [ 0.    0.92  0.25  0.19  0.86]\n",
      " [ 0.    0.    0.43  0.39  0.33]\n",
      " [ 0.    0.    0.   -0.21 -0.59]\n",
      " [ 0.    0.    0.    0.   -0.9 ]] \n",
      "\n"
     ]
    }
   ],
   "source": [
    "A = np.random.rand(5, 5).round(2) # rounding to two digits for simplicity\n",
    "n = A.shape[1]\n",
    "print(f\"A:\\n {A}\")\n",
    "\n",
    "U = A.copy()  \n",
    "L = np.eye(5)\n",
    "\n",
    "# iterate trough each diagonal point (pivot) and apply the LU step\n",
    "for i in range(n):\n",
    "    L, U = LU_ROW_OP(L, U, i)\n",
    "    print(f\"\\nStep {i+1}, Pivot [{i}, {i}]:\\n {U.round(2)} \\n\")"
   ]
  },
  {
   "cell_type": "markdown",
   "id": "9325d2d8-d877-47b0-9956-d663f5321706",
   "metadata": {},
   "source": [
    "Next, we will implement this as a function to do some tests. "
   ]
  },
  {
   "cell_type": "markdown",
   "id": "4ccd4222-2d8f-47c7-b853-8a67c94ca3b0",
   "metadata": {},
   "source": [
    "# Basic LU Algorithm"
   ]
  },
  {
   "cell_type": "code",
   "execution_count": 5,
   "id": "4a2dee6b-098d-4abb-b4ff-3f415eda2983",
   "metadata": {},
   "outputs": [],
   "source": [
    "# LU with no pivoting \n",
    "def basic_lu(A):\n",
    "\n",
    "    # define L and U matrices \n",
    "    n = A.shape[0]\n",
    "    L = np.eye(n)\n",
    "    U = A.copy() \n",
    "    \n",
    "    # iterating through each diagonal element \n",
    "    for i in range(n): # O(n)\n",
    "        L, U = LU_ROW_OP(L, U, i) #O( (n-1)*n )\n",
    "        \n",
    "    return L, U \n",
    "    \n",
    "# Total complexity = O(n * (n^2 - n)) = O(n^3 - n^2) = O(n^3)"
   ]
  },
  {
   "cell_type": "code",
   "execution_count": 6,
   "id": "d2f407d1-3407-41db-a32f-a036755e26c8",
   "metadata": {},
   "outputs": [
    {
     "name": "stdout",
     "output_type": "stream",
     "text": [
      "\n",
      " reconstruction error (||A - LU||_2): 0.0\n"
     ]
    }
   ],
   "source": [
    "L, U = basic_lu(A)\n",
    "\n",
    "# check solution PA = LU (in this case, since there is no pivoting P = Identity matrix)\n",
    "LU = L @ U\n",
    "\n",
    "# L2 norm to compare A and L@U. \n",
    "res = abs(A - L@U)\n",
    "err = np.linalg.norm(res) \n",
    "\n",
    "#print(f\"A:\\n {A.round(2)} \\n\\n L:\\n {L.round(2)} \\n\\n U:\\n {U.round(2)} \\n\\n L@U: \\n{L@U} \\n\\n\")\n",
    "print(f\"\\n reconstruction error (||A - LU||_2): {err}\")"
   ]
  },
  {
   "cell_type": "markdown",
   "id": "737de7ca-92c1-4a2f-a636-9ef7e52a5a2d",
   "metadata": {},
   "source": [
    "# Basic LU (no pivoting) will fail in some cases\n",
    "\n",
    "We will test our basic LU algorithm on three matrices \n",
    "1. A1 : The first pivot is zero\n",
    "   - Setting the first pivot A[0, 0] leads to zero division when computing the multiplier. \n",
    "2. A2 : The first pivot is extremly small\n",
    "   - Due to floating point innacuracies, extremely small pivot values can cause zero divisions. \n",
    "3. A3 : Singular matrix (randomly generated)\n",
    "   - Why does a singular matrix fail LU? \n",
    "   \n",
    "You will see that the basic LU algorithm will fail in these three cases. "
   ]
  },
  {
   "cell_type": "code",
   "execution_count": 7,
   "id": "d510b2f6-f176-407f-b315-8fa98107c332",
   "metadata": {},
   "outputs": [
    {
     "name": "stdout",
     "output_type": "stream",
     "text": [
      "TERMINATING... ZERO PIVOT ENCOUNTERED AT ROW 0\n",
      "TERMINATING... ZERO PIVOT ENCOUNTERED AT ROW 2\n",
      "TERMINATING... ZERO PIVOT ENCOUNTERED AT ROW 4\n"
     ]
    }
   ],
   "source": [
    "A1 = A.copy()\n",
    "A2 = A.copy()\n",
    "n  = A.shape[1]\n",
    "\n",
    "# three cases where basic LU will fail\n",
    "A1[0, 0] = 0                                      # Case1: The first pivot value is zero \n",
    "A2[0, 0] = 6.6e-40                                # Case2: The first pivot value is miniscule (eg. Planck's constant)\n",
    "A3 = np.random.rand(n, 1) @ np.random.rand(1, n)  # Case3: singular matrix (That's right! outer product of two vectors is a singular matrix.)\n",
    "\n",
    "# compute the basic LU of the three cases \n",
    "L1, U1 = basic_lu(A1)\n",
    "L2, U2 = basic_lu(A2)\n",
    "L3, U3 = basic_lu(A3) \n",
    "\n",
    "# assert will terminate program if false\n",
    "test1 = (np.isnan(L1) & np.isnan(U1)).any()        # check if there are any infinite values in L1 and U1\n",
    "test2 = (np.isnan(L2) & np.isnan(U2)).any()        # same test with L2 and U2\n",
    "test3 = (np.isnan(L3) & np.isnan(U3)).any()        # same test with L3 and U3\n"
   ]
  },
  {
   "cell_type": "markdown",
   "id": "9e2b4f9a-15e5-4fa5-b2e7-6efc1497413c",
   "metadata": {},
   "source": [
    "# Partial pivoting. If zero pivot encountered, simply swap it with with a different row.\n",
    ". \n",
    "There are various methods to determine which row to swap with."
   ]
  },
  {
   "cell_type": "code",
   "execution_count": 8,
   "id": "d176ac8e-4a80-475e-afaa-edae2c778bfc",
   "metadata": {},
   "outputs": [],
   "source": [
    "# simple one line code to swap two rows, 'row1' and 'row2' of a matrix A O(1)\n",
    "def swap_rows(A, row1, row2):\n",
    "    A[[row1, row2], :] = A[[row2, row1], :]\n",
    "    return A"
   ]
  },
  {
   "cell_type": "markdown",
   "id": "670a4495-d92b-4316-aa4e-ef8218c9f800",
   "metadata": {},
   "source": [
    "# LU Factorization with Partial Pivoting (only swap rows)"
   ]
  },
  {
   "cell_type": "code",
   "execution_count": 9,
   "id": "b01f6a17-a4b5-4f2a-b7c3-11b00551a3c9",
   "metadata": {},
   "outputs": [],
   "source": [
    "# loop until you find the next non zero pivot (or if array ends)\n",
    "def partial_pivot_simple(P, U, i):\n",
    "    n_possibilities = U.shape[1] - i \n",
    "    while np.isclose(U[i, i], 0.0) and i < n_possibilities:\n",
    "        P = swap_rows(P, i, i+1)           \n",
    "        U = swap_rows(U, i, i+1)\n",
    "        i = i + 1\n",
    "    return P, U\n",
    "\n",
    "# Use argmax to find the next largest value. \n",
    "def partial_pivot_argmax(P, U, i):\n",
    "    # look at the column values below and find the next largest pivot \n",
    "    piv_vals         = np.diag(U[i:, i:])\n",
    "    piv_with_max_val = i + np.argmax(piv_vals)\n",
    "    # swap rows with the \n",
    "    P = swap_rows(P, i, piv_with_max_val)           \n",
    "    U = swap_rows(U, i, piv_with_max_val)\n",
    "    return P, U"
   ]
  },
  {
   "cell_type": "code",
   "execution_count": 10,
   "id": "516c6b40-8e11-4715-b216-ec044e80c7a5",
   "metadata": {},
   "outputs": [],
   "source": [
    "def partial_pivot_lu(A):\n",
    "    n = A.shape[1]\n",
    "    P, L = np.eye(n), np.eye(n)\n",
    "    U = A.copy()\n",
    "\n",
    "    # iterating through each pivot (diagonal point for each row)\n",
    "    for i in range(n):\n",
    "\n",
    "        if np.isclose(U[i, i], 0.0):\n",
    "            P, U = partial_pivot_argmax(P, U, i)\n",
    "            # P, U = partial_pivot_simple(P, U, i)\n",
    "        \n",
    "        L, U = LU_ROW_OP(L, U, i)\n",
    "        \n",
    "    return P, L, U"
   ]
  },
  {
   "cell_type": "code",
   "execution_count": 11,
   "id": "9bd2c9ba-13b9-46c9-a108-00a6c3d5b201",
   "metadata": {},
   "outputs": [
    {
     "name": "stdout",
     "output_type": "stream",
     "text": [
      "\n",
      " Reconstruction error for A1 and A2 is 3.1031676915590914e-17 and 3.1031676915590914e-17 respectively \n",
      "\n"
     ]
    }
   ],
   "source": [
    "# we will return to the three special cases we discussed above\n",
    "P1, L1, U1 = partial_pivot_lu(A1) # A1[0, 0] = 0\n",
    "P2, L2, U2 = partial_pivot_lu(A2) # A2[0, 0] = planks constant (~6e-30, very close to zero)\n",
    "\n",
    "\n",
    "err1 = np.linalg.norm( P1@A1 - L1@U1 ) \n",
    "err2 = np.linalg.norm( P2@A2 - L2@U2 ) \n",
    "print(f\"\\n Reconstruction error for A1 and A2 is {err1} and {err2} respectively \\n\")"
   ]
  },
  {
   "cell_type": "code",
   "execution_count": 12,
   "id": "8e405989-42db-4175-996e-ccc8a20d9b72",
   "metadata": {},
   "outputs": [
    {
     "name": "stdout",
     "output_type": "stream",
     "text": [
      "TERMINATING... ZERO PIVOT ENCOUNTERED AT ROW 3\n"
     ]
    }
   ],
   "source": [
    "# Singular matrices will still fail (why? \n",
    "P3, L3, U3 = partial_pivot_lu(A3) "
   ]
  },
  {
   "cell_type": "markdown",
   "id": "20de649a-a61a-42d0-ad1a-01a0201f9829",
   "metadata": {},
   "source": [
    "# Forward/Backward Substitution to Solve Linear Systems with Triangular Matrices. \n",
    "Let $A$ be a triangular matrix with the linear system $Ax=b$.\n",
    "$$\n",
    "\\begin{bmatrix}\n",
    "a_{11} &        &        \\\\\n",
    "\\vdots & \\ddots &        \\\\\n",
    "a_{m1} & \\cdots & a_{mn} \\\\\n",
    "\\end{bmatrix}\n",
    "\\begin{bmatrix}\n",
    "x_{1} \\\\\n",
    "\\vdots \\\\\n",
    "x_{n}\n",
    "\\end{bmatrix}=\n",
    "\\begin{bmatrix}\n",
    "b_{1} \\\\\n",
    "\\vdots \\\\\n",
    "b_{n}\n",
    "\\end{bmatrix}\n",
    "$$\n",
    "This corrosponds to the following set of linear equations\n",
    "$$\n",
    "\\begin{eqnarray}\n",
    "a_{11} x_{1}   &=& b_{1}  \\\\\n",
    "a_{21} x_{1} + a_{22} x_{2} &=& b_{2} \\\\\n",
    "&\\vdots& \\\\\n",
    "a_{m1} x_{1} + a_{m2} x_{2} + \\cdots + a_{mn}x_{n}&=& b_{n}. \\\\\n",
    "\\end{eqnarray}\n",
    "$$\n",
    "Which can be easily solved as \n",
    "$$\n",
    "\\begin{eqnarray}\n",
    "x_{1}   &=& \\frac{b_{1}}{a_{11}}   \\\\\n",
    "x_{2} &=& \\frac{b_{2} - a_{21}x_1}{a_{22}} \\\\\n",
    "x_{3} &=& \\frac{b_{3} - a_{31}x_1 - a_{32}x_2}{a_{33}} \\\\\n",
    "x_{4} &=& \\frac{b_{4} - a_{41}x_1 - a_{42}x_2-a_{43}x_3}{a_{43}} \\\\\n",
    "&\\vdots& \\\\\n",
    "x_{n} &=& \\frac{b_{n} - a_{m1}x_1 - a_{m2}x_2 - \\cdots - a_{mn}x_{n-1}}{a_{nn}} = \\frac{b_{n} - \\sum_{i=1}^{n-1}a_{mi}x_i}{a_{nn}}\\\\\n",
    "\\end{eqnarray}\n",
    "$$\n",
    "The `USolve()` function from lecture implements this algorithm where the summation term ($\\sum_{i=1}^{n-1}a_{mi}x_i$) is implemented as a loop. We can convert this into a dot product as -\n",
    "$$\n",
    "    \\sum_{i=1}^{n-1}a_{mi}x_i = \\begin{pmatrix} a_{m1} & a_{m2} & \\cdots & a_{mn-1} \\end{pmatrix} \\begin{pmatrix} x_{1} & a_{2} & \\cdots & x_{n-1} \\end{pmatrix}^T\n",
    "$$\n",
    "We will implement this version in this lab using array slicing."
   ]
  },
  {
   "cell_type": "code",
   "execution_count": 13,
   "id": "3eee1ce3-32af-4c7a-9e15-b8d20af894a7",
   "metadata": {},
   "outputs": [],
   "source": [
    "def forward_subst(A, b):         \n",
    "    n = A.shape[0]\n",
    "    x = np.zeros(shape=b.shape);\n",
    "    x[0] = b[0] / A[0, 0]\n",
    "    \n",
    "    for i in range(1, n): # loop O(n) \n",
    "        x[i] = (b[i] - A[i,:i]@x[:i]) / A[i,i] # ~ O(n)\n",
    "\n",
    "    return x\n",
    "# total run time O(O(n)) = O(n^2)"
   ]
  },
  {
   "cell_type": "markdown",
   "id": "f81a8e36-7713-400f-82e9-64d9a5094cf5",
   "metadata": {},
   "source": [
    "#### Similarly for lower diagonal matrices, you iterate from the bottom of the array and iterate to the top. "
   ]
  },
  {
   "cell_type": "code",
   "execution_count": 14,
   "id": "db27b54e-6baa-4d7b-9687-ec6b8be16cb9",
   "metadata": {},
   "outputs": [],
   "source": [
    "# Similarly for upper triangular matrices, we start from the last euqation and iterate towards the first equation \n",
    "def backward_subst(A, b):\n",
    "    n = A.shape[0]\n",
    "    x = np.zeros(shape=b.shape)\n",
    "    x[-1] = b[-1] / A[-1, -1]\n",
    "\n",
    "    for i in range(n-2, -1, -1):\n",
    "        x[i] = (b[i] - A[i,i:]@x[i:]) / A[i,i]\n",
    "        \n",
    "    return x"
   ]
  },
  {
   "cell_type": "markdown",
   "id": "e3b02ab8-39f3-4967-8bc7-cfa0179cc38a",
   "metadata": {},
   "source": [
    "# Speeding Up Solving Linear Systems using $LU$\n",
    "Now that we have code for decomposing a matrix $A$ into the $LU$ form, we can use it to solve system of linear equations. Observe that L and U are triangular matrices, which can be solved on $\\mathcal{O}(n^2)$ time as shown in the previous section! Suppose we have the decomposition $A = LU$, we can solve a system $Ax=b$ as -\n",
    "\n",
    "$$\n",
    "\\begin{eqnarray} \n",
    "Ax &=& b \\\\\n",
    "LU  x &=& b\\\\\n",
    "L(U x) &=& b \\\\\n",
    "\\end{eqnarray}\n",
    "$$\n",
    "\n",
    "Let $Ux = z$. Which boils down the system to two linear systems (ignoring $P$)\n",
    "$$\n",
    "\\begin{align}\n",
    "L z = b \\\\\n",
    "Ux = z\n",
    "\\end{align}\n",
    "$$\n",
    "\n",
    "Hence, we can break down the problem to two steps \n",
    "1. Solve for $z$\n",
    "2. Use the solution of $z$ to solve for $x$\n",
    "\n",
    "Since both computations are solving a triangular matrix system, both of them can be solved in $\\mathcal{O}(n^2)$ time as we can see below. "
   ]
  },
  {
   "cell_type": "code",
   "execution_count": 15,
   "id": "4c28a0db-efb9-4364-9b98-2dce0880b91b",
   "metadata": {},
   "outputs": [],
   "source": [
    "#random example. Make up A, x and compute b. \n",
    "A = np.random.rand(5, 5)\n",
    "x = np.random.rand(5)   # true sol\n",
    "b = A @ x \n",
    "\n",
    "# LU decomposition\n",
    "P, L, U = partial_pivot_lu(A)\n",
    "\n",
    "# solution using forward and backward substitutions\n",
    "z    = forward_subst(L, b)\n",
    "x_lu = backward_subst(U, z)"
   ]
  },
  {
   "cell_type": "code",
   "execution_count": 16,
   "id": "2d204ac7-4ad8-4d70-b82d-a6dca12c4cf8",
   "metadata": {},
   "outputs": [
    {
     "name": "stdout",
     "output_type": "stream",
     "text": [
      "\n",
      "Numpy soln :\n",
      "\n",
      " [0.20821735 0.282423   0.68338825 0.67821836 0.05466437]\n",
      "\n",
      "LU soln :\n",
      "\n",
      " [0.20821735 0.282423   0.68338825 0.67821836 0.05466437]\n",
      "\n",
      " L2 err :\n",
      "\n",
      " 1.1463590354915804e-14\n"
     ]
    }
   ],
   "source": [
    "numpy_soln = np.linalg.solve(A, b)\n",
    "assert np.isclose(x_lu, numpy_soln).all(), \"Numpy and computed soln not same!\"\n",
    "\n",
    "print(f\"\\nNumpy soln :\\n\\n {numpy_soln}\")\n",
    "print(f\"\\nLU soln :\\n\\n {x_lu}\")\n",
    "print(f\"\\n L2 err :\\n\\n { np.linalg.norm(numpy_soln-x_lu) }\")"
   ]
  },
  {
   "cell_type": "code",
   "execution_count": null,
   "id": "284c5d2a-5d77-4fcd-bbed-2a85af848aba",
   "metadata": {},
   "outputs": [],
   "source": []
  }
 ],
 "metadata": {
  "kernelspec": {
   "display_name": "Python 3 (ipykernel)",
   "language": "python",
   "name": "python3"
  },
  "language_info": {
   "codemirror_mode": {
    "name": "ipython",
    "version": 3
   },
   "file_extension": ".py",
   "mimetype": "text/x-python",
   "name": "python",
   "nbconvert_exporter": "python",
   "pygments_lexer": "ipython3",
   "version": "3.11.7"
  }
 },
 "nbformat": 4,
 "nbformat_minor": 5
}
